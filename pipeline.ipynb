{
 "cells": [
  {
   "cell_type": "code",
   "execution_count": 26,
   "metadata": {},
   "outputs": [
    {
     "ename": "ImportError",
     "evalue": "cannot import name 'CID' from 'auths' (/home/rafipangestu/Desktop/reddit-pipeline/reddit-pipeline/auths.py)",
     "output_type": "error",
     "traceback": [
      "\u001b[0;31m---------------------------------------------------------------------------\u001b[0m",
      "\u001b[0;31mImportError\u001b[0m                               Traceback (most recent call last)",
      "\u001b[1;32m/home/rafipangestu/Desktop/reddit-pipeline/reddit-pipeline/pipeline.ipynb Cell 1\u001b[0m in \u001b[0;36m<cell line: 3>\u001b[0;34m()\u001b[0m\n\u001b[1;32m      <a href='vscode-notebook-cell:/home/rafipangestu/Desktop/reddit-pipeline/reddit-pipeline/pipeline.ipynb#W0sZmlsZQ%3D%3D?line=0'>1</a>\u001b[0m \u001b[39mimport\u001b[39;00m \u001b[39mpandas\u001b[39;00m \u001b[39mas\u001b[39;00m \u001b[39mpd\u001b[39;00m\n\u001b[1;32m      <a href='vscode-notebook-cell:/home/rafipangestu/Desktop/reddit-pipeline/reddit-pipeline/pipeline.ipynb#W0sZmlsZQ%3D%3D?line=1'>2</a>\u001b[0m \u001b[39mimport\u001b[39;00m \u001b[39mrequests\u001b[39;00m \n\u001b[0;32m----> <a href='vscode-notebook-cell:/home/rafipangestu/Desktop/reddit-pipeline/reddit-pipeline/pipeline.ipynb#W0sZmlsZQ%3D%3D?line=2'>3</a>\u001b[0m \u001b[39mfrom\u001b[39;00m \u001b[39mauths\u001b[39;00m \u001b[39mimport\u001b[39;00m CID, NAME, SECRET\n\u001b[1;32m      <a href='vscode-notebook-cell:/home/rafipangestu/Desktop/reddit-pipeline/reddit-pipeline/pipeline.ipynb#W0sZmlsZQ%3D%3D?line=4'>5</a>\u001b[0m \u001b[39mimport\u001b[39;00m \u001b[39mpraw\u001b[39;00m\n\u001b[1;32m      <a href='vscode-notebook-cell:/home/rafipangestu/Desktop/reddit-pipeline/reddit-pipeline/pipeline.ipynb#W0sZmlsZQ%3D%3D?line=7'>8</a>\u001b[0m reddit_read_only \u001b[39m=\u001b[39m praw\u001b[39m.\u001b[39mReddit(client_id\u001b[39m=\u001b[39mCID,         \u001b[39m# your client id\u001b[39;00m\n\u001b[1;32m      <a href='vscode-notebook-cell:/home/rafipangestu/Desktop/reddit-pipeline/reddit-pipeline/pipeline.ipynb#W0sZmlsZQ%3D%3D?line=8'>9</a>\u001b[0m                                client_secret\u001b[39m=\u001b[39mSECRET,      \u001b[39m# your client secret\u001b[39;00m\n\u001b[1;32m     <a href='vscode-notebook-cell:/home/rafipangestu/Desktop/reddit-pipeline/reddit-pipeline/pipeline.ipynb#W0sZmlsZQ%3D%3D?line=9'>10</a>\u001b[0m                                user_agent\u001b[39m=\u001b[39mNAME)\n",
      "\u001b[0;31mImportError\u001b[0m: cannot import name 'CID' from 'auths' (/home/rafipangestu/Desktop/reddit-pipeline/reddit-pipeline/auths.py)"
     ]
    }
   ],
   "source": [
    "import pandas as pd\n",
    "import requests \n",
    "from auths import CID, NAME, SECRET\n",
    "\n",
    "import praw\n",
    "\n",
    "\n",
    "reddit_read_only = praw.Reddit(client_id=CID,         # your client id\n",
    "                               client_secret=SECRET,      # your client secret\n",
    "                               user_agent=NAME) "
   ]
  },
  {
   "cell_type": "code",
   "execution_count": null,
   "metadata": {},
   "outputs": [],
   "source": []
  }
 ],
 "metadata": {
  "kernelspec": {
   "display_name": "datsci",
   "language": "python",
   "name": "python3"
  },
  "language_info": {
   "codemirror_mode": {
    "name": "ipython",
    "version": 3
   },
   "file_extension": ".py",
   "mimetype": "text/x-python",
   "name": "python",
   "nbconvert_exporter": "python",
   "pygments_lexer": "ipython3",
   "version": "3.8.13"
  },
  "orig_nbformat": 4,
  "vscode": {
   "interpreter": {
    "hash": "4562727f14b74f61555a57c9b095d933e35297c32a32cec7b21936c886b6a59b"
   }
  }
 },
 "nbformat": 4,
 "nbformat_minor": 2
}
